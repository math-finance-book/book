{
 "cells": [
  {
   "cell_type": "code",
   "execution_count": 4,
   "metadata": {},
   "outputs": [
    {
     "name": "stderr",
     "output_type": "stream",
     "text": [
      "2024-12-31 10:17:05.002 Thread 'MainThread': missing ScriptRunContext! This warning can be ignored when running in bare mode.\n",
      "2024-12-31 10:17:05.012 Thread 'MainThread': missing ScriptRunContext! This warning can be ignored when running in bare mode.\n",
      "2024-12-31 10:17:05.015 Thread 'MainThread': missing ScriptRunContext! This warning can be ignored when running in bare mode.\n",
      "2024-12-31 10:17:05.033 Thread 'MainThread': missing ScriptRunContext! This warning can be ignored when running in bare mode.\n",
      "2024-12-31 10:17:05.046 Thread 'MainThread': missing ScriptRunContext! This warning can be ignored when running in bare mode.\n",
      "2024-12-31 10:17:05.048 Thread 'MainThread': missing ScriptRunContext! This warning can be ignored when running in bare mode.\n",
      "2024-12-31 10:17:05.050 Thread 'MainThread': missing ScriptRunContext! This warning can be ignored when running in bare mode.\n",
      "2024-12-31 10:17:05.085 Thread 'MainThread': missing ScriptRunContext! This warning can be ignored when running in bare mode.\n",
      "2024-12-31 10:17:05.090 Thread 'MainThread': missing ScriptRunContext! This warning can be ignored when running in bare mode.\n",
      "2024-12-31 10:17:05.092 Thread 'MainThread': missing ScriptRunContext! This warning can be ignored when running in bare mode.\n",
      "2024-12-31 10:17:05.098 Thread 'MainThread': missing ScriptRunContext! This warning can be ignored when running in bare mode.\n"
     ]
    }
   ],
   "source": [
    "import numpy as np\n",
    "import matplotlib.pyplot as plt\n",
    "import streamlit as st\n",
    "from scipy.stats import norm\n",
    "#import scipy.optimize as optimize\n",
    "\n",
    "def black_scholes_call(S, K, r, sigma, q, T):\n",
    "    \"\"\"\n",
    "    Inputs:\n",
    "    S = initial stock price\n",
    "    K = strike price\n",
    "    r = risk-free rate\n",
    "    sigma = volatility\n",
    "    q = dividend yield\n",
    "    T = time to maturity\n",
    "    \"\"\"\n",
    "    if sigma == 0:\n",
    "        return max(0, np.exp(-q * T) * S - np.exp(-r * T) * K)\n",
    "    else:\n",
    "        d1 = (np.log(S / K) + (r - q + 0.5 * sigma ** 2) * T) / (sigma * np.sqrt(T))\n",
    "        d2 = d1 - sigma * np.sqrt(T)\n",
    "        N1 = norm.cdf(d1)\n",
    "        N2 = norm.cdf(d2)\n",
    "        return np.exp(-q * T) * S * N1 - np.exp(-r * T) * K * N2\n",
    "\n",
    "st.title=('My Title')\n",
    "st.sidebar.header('params')\n",
    "S_slide=st.sidebar.slider('Underlying Price',50,15,100)\n",
    "\n",
    "#S = 100  # Initial stock price\n",
    "K = 100  # Strike price\n",
    "r = 0.05  # Risk-free rate\n",
    "sigma = 0.2  # Volatility\n",
    "q = 0.02  # Dividend yield\n",
    "T = 1  # Time to maturity in years\n",
    "# Calculate Black-Scholes call\n",
    "call_price = black_scholes_call(S_slide, K, r, sigma, q, T)\n",
    "st.write(f'option price {call_price}')\n"
   ]
  },
  {
   "cell_type": "code",
   "execution_count": null,
   "metadata": {},
   "outputs": [],
   "source": []
  }
 ],
 "metadata": {
  "kernelspec": {
   "display_name": ".venv",
   "language": "python",
   "name": "python3"
  },
  "language_info": {
   "codemirror_mode": {
    "name": "ipython",
    "version": 3
   },
   "file_extension": ".py",
   "mimetype": "text/x-python",
   "name": "python",
   "nbconvert_exporter": "python",
   "pygments_lexer": "ipython3",
   "version": "3.9.6"
  }
 },
 "nbformat": 4,
 "nbformat_minor": 2
}
