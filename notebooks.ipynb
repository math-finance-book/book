{
 "cells": [
  {
   "cell_type": "code",
   "execution_count": 2,
   "metadata": {},
   "outputs": [],
   "source": [
    "import os \n",
    "import json\n",
    "\n",
    "# Function to remove lines starting with #|\n",
    "def remove_special_comments(source):\n",
    "    return [line for line in source if not line.strip().startswith('#|')]\n",
    "\n",
    "# Load the notebook\n",
    "with open('Chapter_Ito.ipynb', 'r') as f:\n",
    "    notebook = json.load(f)\n",
    "\n",
    "# Filter out markdown cells\n",
    "notebook['cells'] = [cell for cell in notebook['cells'] if cell['cell_type'] != 'markdown']\n",
    "\n",
    "# Remove unwanted lines from code cells\n",
    "for cell in notebook['cells']:\n",
    "    if cell['cell_type'] == 'code':\n",
    "        cell['source'] = remove_special_comments(cell['source'])\n",
    "\n",
    "# Save the modified notebook\n",
    "with open('Chapter_Ito_no_markdown.ipynb', 'w') as f:\n",
    "    json.dump(notebook, f, indent=2)"
   ]
  }
 ],
 "metadata": {
  "kernelspec": {
   "display_name": "Python 3",
   "language": "python",
   "name": "python3"
  },
  "language_info": {
   "codemirror_mode": {
    "name": "ipython",
    "version": 3
   },
   "file_extension": ".py",
   "mimetype": "text/x-python",
   "name": "python",
   "nbconvert_exporter": "python",
   "pygments_lexer": "ipython3",
   "version": "3.13.0"
  }
 },
 "nbformat": 4,
 "nbformat_minor": 2
}
