{
 "cells": [
  {
   "cell_type": "code",
   "execution_count": 101,
   "id": "ede68e79",
   "metadata": {},
   "outputs": [],
   "source": [
    "import pandas as pd\n",
    "from dateutil.relativedelta import relativedelta\n",
    "\n",
    "df = pd.read_csv('https://www.dropbox.com/s/832hth1es40f4g7/newfutures.csv?dl=1', index_col=0)\n",
    "df = df[df.date>='2010-01-01']\n",
    "df.date = pd.to_datetime(df.date)\n",
    "\n",
    "# Function to add months and set day to 15th\n",
    "def add_months_and_set_day(date, months_to_add):\n",
    "    new_date = date + relativedelta(months=int(months_to_add))\n",
    "    new_date = new_date.replace(day=15)\n",
    "    return new_date\n",
    "\n",
    "# Apply the function to create the new column\n",
    "df['new_to_date'] = df.apply(\n",
    "    lambda row: add_months_and_set_day(row['date'], row['months past front month']), \n",
    "    axis=1\n",
    ")\n",
    "df = df.reset_index(drop=True).set_index(['code', 'date', 'new_to_date']).settle"
   ]
  },
  {
   "cell_type": "code",
   "execution_count": 102,
   "id": "0de6aff3",
   "metadata": {},
   "outputs": [],
   "source": [
    "yen = df.loc[('CME_JY', '2022-06-01')]\n",
    "peso = df.loc[('CME_MP', '2022-06-01')]\n",
    "gold = df.loc[('CME_GC', '2022-06-01')]\n",
    "sp500 = df.loc[('CME_ES', '2020-06-01')]\n",
    "crude1 = df.loc[('CME_CL', '2020-04-20')]\n",
    "crude2 = df.loc[('CME_CL', '2022-03-08')]\n",
    "gas = df.loc[('CME_NG', '2018-06-08')]\n",
    "corn = df.loc[('CME_C', '2018-06-08')]"
   ]
  },
  {
   "cell_type": "code",
   "execution_count": null,
   "id": "7ikwk26vqxj",
   "metadata": {},
   "outputs": [],
   "source": "import plotly.graph_objects as go\nfrom plotly.subplots import make_subplots\n\n# Create figure with 2x2 subplots with horizontal spacing\nfig = make_subplots(\n    rows=2, cols=2,\n    subplot_titles=('Gold (2022-06-01)', 'S&P 500 (2020-06-01)', \n                    'Japanese Yen (2022-06-01)', 'Mexican Peso (2022-06-01)'),\n    specs=[[{\"secondary_y\": False}, {\"secondary_y\": False}],\n           [{\"secondary_y\": False}, {\"secondary_y\": False}]],\n    horizontal_spacing=0.12  # Add horizontal spacing between columns\n)\n\n# Add Gold trace (top left)\nfig.add_trace(\n    go.Scatter(x=gold.index, y=gold.values, \n               name='Gold',\n               mode='lines+markers',\n               hovertemplate='%{x|%b %Y}<br>Price: %{y}<extra></extra>'),\n    row=1, col=1\n)\n\n# Add S&P 500 trace (top right)\nfig.add_trace(\n    go.Scatter(x=sp500.index, y=sp500.values, \n               name='S&P 500',\n               mode='lines+markers',\n               hovertemplate='%{x|%b %Y}<br>Price: %{y}<extra></extra>'),\n    row=1, col=2\n)\n\n# Add Yen trace (bottom left)\nfig.add_trace(\n    go.Scatter(x=yen.index, y=yen.values, \n               name='Japanese Yen',\n               mode='lines+markers',\n               hovertemplate='%{x|%b %Y}<br>Price: %{y}<extra></extra>'),\n    row=2, col=1\n)\n\n# Add Peso trace (bottom right)\nfig.add_trace(\n    go.Scatter(x=peso.index, y=peso.values, \n               name='Mexican Peso',\n               mode='lines+markers',\n               hovertemplate='%{x|%b %Y}<br>Price: %{y}<extra></extra>'),\n    row=2, col=2\n)\n\n# Update layout - set width=None for auto-sizing\nfig.update_layout(\n    height=600,\n    width=None,  # Auto-adjust width to container\n    showlegend=False,\n    autosize=True,  # Enable responsive sizing\n    template='plotly_white',  # Use plotly white template\n    # Make subplot titles smaller\n    annotations=[dict(font=dict(size=12)) for _ in fig['layout']['annotations']]\n)\n\n# Update axes labels with smaller font\nfig.update_xaxes(title_text=\"Contract Date\", row=2, col=1, title_font=dict(size=10), tickfont=dict(size=9))\nfig.update_xaxes(title_text=\"Contract Date\", row=2, col=2, title_font=dict(size=10), tickfont=dict(size=9))\nfig.update_yaxes(title_text=\"Futures Price\", row=1, col=1, title_font=dict(size=10), tickfont=dict(size=9))\nfig.update_yaxes(title_text=\"\", row=1, col=2, title_font=dict(size=10), tickfont=dict(size=9))\nfig.update_yaxes(title_text=\"Futures Price\", row=2, col=1, title_font=dict(size=10), tickfont=dict(size=9))\nfig.update_yaxes(title_text=\"\", row=2, col=2, title_font=dict(size=10), tickfont=dict(size=9))\n\n# Update all tick labels to be smaller\nfig.update_xaxes(tickangle=45, tickfont=dict(size=9))\nfig.update_yaxes(tickfont=dict(size=9))\n\n# Update subplot titles font size\nfor annotation in fig['layout']['annotations']:\n    annotation['font'] = dict(size=12)\n\nfig.show()"
  }
 ],
 "metadata": {
  "kernelspec": {
   "display_name": "venv",
   "language": "python",
   "name": "python3"
  },
  "language_info": {
   "codemirror_mode": {
    "name": "ipython",
    "version": 3
   },
   "file_extension": ".py",
   "mimetype": "text/x-python",
   "name": "python",
   "nbconvert_exporter": "python",
   "pygments_lexer": "ipython3",
   "version": "3.12.3"
  }
 },
 "nbformat": 4,
 "nbformat_minor": 5
}