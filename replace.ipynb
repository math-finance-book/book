{
 "cells": [
  {
   "cell_type": "markdown",
   "metadata": {},
   "source": [
    "### Miscellaneous replacements"
   ]
  },
  {
   "cell_type": "code",
   "execution_count": 1,
   "metadata": {},
   "outputs": [],
   "source": [
    "from os import listdir\n",
    "chapters = [\n",
    "    f for f in listdir(\".\") \n",
    "    if f.split(\"_\")[0] in [\"Appendix\", \"Chapter\"]\n",
    "    and f.split(\".\")[-1] == \"qmd\"\n",
    "]\n",
    "    \n",
    "dct = {\n",
    "    \"sec-c:black_scholes\": \"sec-c:blackscholes\",\n",
    "}\n",
    "\n",
    "for chapter in chapters:\n",
    "    with open(chapter, 'r') as f:\n",
    "        contents = f.read()\n",
    "        for key in dct:\n",
    "            contents = contents.replace(key, dct[key])\n",
    "    with open(chapter, \"w\") as f:\n",
    "        f.write(contents)"
   ]
  },
  {
   "cell_type": "code",
   "execution_count": 9,
   "metadata": {},
   "outputs": [],
   "source": [
    "string = \"\"\" \n",
    "\n",
    "```{python}\n",
    "#| eval: true\n",
    "#| echo: false\n",
    "\n",
    "import plotly\n",
    "from IPython.display import display, HTML\n",
    "\n",
    "plotly.offline.init_notebook_mode(connected=True)\n",
    "display(\n",
    "    HTML(\n",
    "        '<script type=\"text/javascript\" async src=\"https://cdnjs.cloudflare.com/ajax/libs/mathjax/2.7.1/MathJax.js?config=TeX-MML-AM_SVG\"></script>'\n",
    "    )\n",
    ")\n",
    "```\n",
    "\"\"\" \n",
    "\n",
    "from os import listdir\n",
    "chapters = [\n",
    "    f for f in listdir(\".\") \n",
    "    if f.split(\"_\")[0] in [\"Appendix\", \"Chapter\"]\n",
    "    and f.split(\".\")[-1] == \"qmd\"\n",
    "]\n",
    "   \n",
    "for chapter in chapters:\n",
    "    with open(chapter, 'r') as f:\n",
    "        contents = f.read()\n",
    "        i = contents.index(\"}\")\n",
    "        i = contents.index(\"}\", i+1)\n",
    "        i = contents.index(\"}\", i+1)\n",
    "        contents = contents[:i+1] + string + contents[i+1:]\n",
    "    with open(chapter, \"w\") as f:\n",
    "        f.write(contents)\n"
   ]
  }
 ],
 "metadata": {
  "kernelspec": {
   "display_name": "Python 3",
   "language": "python",
   "name": "python3"
  },
  "language_info": {
   "codemirror_mode": {
    "name": "ipython",
    "version": 3
   },
   "file_extension": ".py",
   "mimetype": "text/x-python",
   "name": "python",
   "nbconvert_exporter": "python",
   "pygments_lexer": "ipython3",
   "version": "3.13.0"
  }
 },
 "nbformat": 4,
 "nbformat_minor": 2
}
