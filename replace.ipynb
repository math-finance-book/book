{
 "cells": [
  {
   "cell_type": "markdown",
   "metadata": {},
   "source": [
    "### Miscellaneous replacements"
   ]
  },
  {
   "cell_type": "code",
   "execution_count": 1,
   "metadata": {},
   "outputs": [],
   "source": [
    "names = [\n",
    "    \"Ito\", \n",
    "    \"Intro\",\n",
    "    \"Arbitrage\",\n",
    "    \"BlackScholes\",\n",
    "    \"FX\",\n",
    "    \"Merton\",\n",
    "    \"Exotics\",\n",
    "    \"Vol\",\n",
    "    \"PDEs\",\n",
    "    \"MonteCarlo\",\n",
    "    \"Binomial\",\n",
    "    \"Girsanov\",\n",
    "    \"Futures\",\n",
    "    \"FiniteDifferences\",\n",
    "    \"Fourier\",\n",
    "    \"FixedIncome\",\n",
    "    \"FixedIncomeDerivatives\",\n",
    "    \"Vasicek\",\n",
    "    \"Survey\",\n",
    "    \"OptionPricing\",\n",
    "    \"Ito\",\n",
    "]\n",
    "chapters = [f\"Chapter_{name}.qmd\" for name in names]\n",
    "chapters += [\"AppendixA.qmd\"]"
   ]
  },
  {
   "cell_type": "code",
   "execution_count": 3,
   "metadata": {},
   "outputs": [],
   "source": [
    "dct = {\n",
    "    \"{#exr-nolabel}\": \"Exercise\",\"\"\n",
    "    \"{.callout-tip}\": \"Rule\",\n",
    "    \"{.callout-note}\": \"Extra\",\n",
    "}\n",
    "\n",
    "for chapter in chapters:\n",
    "    with open(chapter, 'r') as f:\n",
    "        contents = f.read()\n",
    "        for key in dct:\n",
    "            contents = contents.replace(key, dct[key])\n",
    "    with open(chapter, \"w\") as f:\n",
    "        f.write(contents)"
   ]
  }
 ],
 "metadata": {
  "kernelspec": {
   "display_name": "Python 3",
   "language": "python",
   "name": "python3"
  },
  "language_info": {
   "codemirror_mode": {
    "name": "ipython",
    "version": 3
   },
   "file_extension": ".py",
   "mimetype": "text/x-python",
   "name": "python",
   "nbconvert_exporter": "python",
   "pygments_lexer": "ipython3",
   "version": "3.13.0"
  }
 },
 "nbformat": 4,
 "nbformat_minor": 2
}
