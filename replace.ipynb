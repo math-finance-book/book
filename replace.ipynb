{
 "cells": [
  {
   "cell_type": "markdown",
   "metadata": {},
   "source": [
    "### Miscellaneous replacements"
   ]
  },
  {
   "cell_type": "code",
   "execution_count": null,
   "metadata": {},
   "outputs": [],
   "source": [
    "\n",
    "]\n",
    "\n"
   ]
  },
  {
   "cell_type": "code",
   "execution_count": 8,
   "metadata": {},
   "outputs": [],
   "source": [
    "from os import listdir\n",
    "chapters = [\n",
    "    f for f in listdir(\".\") \n",
    "    if f.split(\"_\")[0] in [\"Appendix\", \"Chapter\"]\n",
    "]\n",
    "    \n",
    "dct = {\n",
    "    \"{#exr-nolabel}\": \"Exercise\",\"\"\n",
    "    \"{.callout-tip}\": \"Rule\",\n",
    "    \"{.callout-note}\": \"Extra\",\n",
    "    \"{.callout-important}\": \"Principle\",\n",
    "}\n",
    "\n",
    "for chapter in chapters:\n",
    "    with open(chapter, 'r') as f:\n",
    "        contents = f.read()\n",
    "        for key in dct:\n",
    "            contents = contents.replace(key, dct[key])\n",
    "    with open(chapter, \"w\") as f:\n",
    "        f.write(contents)"
   ]
  }
 ],
 "metadata": {
  "kernelspec": {
   "display_name": "Python 3",
   "language": "python",
   "name": "python3"
  },
  "language_info": {
   "codemirror_mode": {
    "name": "ipython",
    "version": 3
   },
   "file_extension": ".py",
   "mimetype": "text/x-python",
   "name": "python",
   "nbconvert_exporter": "python",
   "pygments_lexer": "ipython3",
   "version": "3.13.0"
  }
 },
 "nbformat": 4,
 "nbformat_minor": 2
}
