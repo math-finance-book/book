{
 "cells": [
  {
   "cell_type": "code",
   "execution_count": null,
   "metadata": {},
   "outputs": [],
   "source": [
    "import json\n",
    "\n",
    "# Load the notebook\n",
    "with open('test.ipynb', 'r') as f:\n",
    "    notebook = json.load(f)\n",
    "\n",
    "# Define the new markdown cell with an image\n",
    "image_path = \"under_construction.jpg\"\n",
    "new_cell = {\n",
    "    \"cell_type\": \"markdown\",\n",
    "    \"metadata\": {},\n",
    "    \"source\": [\n",
    "        f\"![Alt text]({image_path})\\n\"\n",
    "    ]\n",
    "}\n",
    "\n",
    "# Insert the new cell at the desired position (e.g., at the end)\n",
    "notebook['cells'].append(new_cell)\n",
    "\n",
    "# Save the modified notebook\n",
    "with open('test.ipynb', 'w') as f:\n",
    "    json.dump(notebook, f, indent=2)"
   ]
  }
 ],
 "metadata": {
  "language_info": {
   "name": "python"
  }
 },
 "nbformat": 4,
 "nbformat_minor": 2
}
