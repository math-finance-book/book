{
 "cells": [
  {
   "cell_type": "markdown",
   "metadata": {},
   "source": [
    "---\n",
    "\n",
    "Created for [Pricing and Hedging Derivative Securities: Theory and Methods](https://book.derivative-securities.org/)\n",
    "    \n",
    "Authored by\n",
    "- Kerry Back, Rice University\n",
    "- Steven L. Heston, University of Maryland\n",
    "- Hong Liu, Washington University in St. Louis\n",
    "- Mark Loewenstein, University of Maryland\n",
    "    \n",
    "---"
   ]
  }
 ],
 "metadata": {
  "language_info": {
   "name": "python"
  }
 },
 "nbformat": 4,
 "nbformat_minor": 2
}
